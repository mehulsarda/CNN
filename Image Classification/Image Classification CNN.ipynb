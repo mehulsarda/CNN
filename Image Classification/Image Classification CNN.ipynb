{
 "cells": [
  {
   "cell_type": "code",
   "execution_count": 1,
   "id": "d92fcfca",
   "metadata": {},
   "outputs": [],
   "source": [
    "import tensorflow as tf\n",
    "from tensorflow import keras\n",
    "from tensorflow.keras import datasets, layers, models\n",
    "import numpy as np\n",
    "import matplotlib.pyplot as plt"
   ]
  },
  {
   "cell_type": "code",
   "execution_count": 2,
   "id": "071d6b3f",
   "metadata": {},
   "outputs": [],
   "source": [
    "(x_train, y_train),(x_test, y_test) = datasets.cifar10.load_data()"
   ]
  },
  {
   "cell_type": "code",
   "execution_count": 3,
   "id": "1265d924",
   "metadata": {},
   "outputs": [
    {
     "data": {
      "text/plain": [
       "(50000, 32, 32, 3)"
      ]
     },
     "execution_count": 3,
     "metadata": {},
     "output_type": "execute_result"
    }
   ],
   "source": [
    "x_train.shape"
   ]
  },
  {
   "cell_type": "code",
   "execution_count": 4,
   "id": "e27a1673",
   "metadata": {},
   "outputs": [
    {
     "data": {
      "text/plain": [
       "(50000, 1)"
      ]
     },
     "execution_count": 4,
     "metadata": {},
     "output_type": "execute_result"
    }
   ],
   "source": [
    "y_train.shape"
   ]
  },
  {
   "cell_type": "code",
   "execution_count": 5,
   "id": "fed71170",
   "metadata": {},
   "outputs": [
    {
     "data": {
      "text/plain": [
       "array([[6],\n",
       "       [9],\n",
       "       [9],\n",
       "       [4],\n",
       "       [1]], dtype=uint8)"
      ]
     },
     "execution_count": 5,
     "metadata": {},
     "output_type": "execute_result"
    }
   ],
   "source": [
    "y_train[:5]"
   ]
  },
  {
   "cell_type": "code",
   "execution_count": 6,
   "id": "5f721c41",
   "metadata": {},
   "outputs": [
    {
     "data": {
      "text/plain": [
       "array([6, 9, 9, 4, 1], dtype=uint8)"
      ]
     },
     "execution_count": 6,
     "metadata": {},
     "output_type": "execute_result"
    }
   ],
   "source": [
    "y_train = y_train.reshape(-1,)\n",
    "y_test = y_test.reshape(-1,)\n",
    "y_train[:5]"
   ]
  },
  {
   "cell_type": "code",
   "execution_count": 7,
   "id": "ded2061e",
   "metadata": {},
   "outputs": [
    {
     "data": {
      "text/plain": [
       "(50000,)"
      ]
     },
     "execution_count": 7,
     "metadata": {},
     "output_type": "execute_result"
    }
   ],
   "source": [
    "y_train.shape"
   ]
  },
  {
   "cell_type": "code",
   "execution_count": 8,
   "id": "d964998c",
   "metadata": {},
   "outputs": [],
   "source": [
    "classes = ['airplane', 'automobile', 'bird', 'cat', 'deer', 'dog', 'frog', 'horse', 'ship', 'truck']"
   ]
  },
  {
   "cell_type": "code",
   "execution_count": 9,
   "id": "5ef5a048",
   "metadata": {},
   "outputs": [],
   "source": [
    "def plot_sample(x,y,index):\n",
    "    plt.figure(figsize=(15,2))\n",
    "    plt.imshow(x[index])\n",
    "    plt.xlabel(classes[y[index]])"
   ]
  },
  {
   "cell_type": "code",
   "execution_count": 10,
   "id": "b241ce79",
   "metadata": {},
   "outputs": [
    {
     "data": {
      "image/png": "[encoded data removed]",
      "text/plain": [
       "<Figure size 1080x144 with 1 Axes>"
      ]
     },
     "metadata": {
      "needs_background": "light"
     },
     "output_type": "display_data"
    }
   ],
   "source": [
    "plot_sample(x_train,y_train,1)"
   ]
  },
  {
   "cell_type": "code",
   "execution_count": 11,
   "id": "09665fe7",
   "metadata": {},
   "outputs": [],
   "source": [
    "x_train = x_train/255\n",
    "x_test = x_test/255"
   ]
  },
  {
   "cell_type": "code",
   "execution_count": 12,
   "id": "8da815f3",
   "metadata": {},
   "outputs": [],
   "source": [
    "# y_train_categorical = keras.utils.to_categorical(\n",
    "#     y_train, num_classes=10, dtype='float32'\n",
    "# )\n",
    "# y_test_categorical = keras.utils.to_categorical(\n",
    "#     y_test, num_classes=10, dtype='float32'\n",
    "# )\n",
    "\n",
    "# y_train_categorical[0:5]"
   ]
  },
  {
   "cell_type": "code",
   "execution_count": 13,
   "id": "b5056ee7",
   "metadata": {},
   "outputs": [
    {
     "name": "stdout",
     "output_type": "stream",
     "text": [
      "Epoch 1/15\n",
      "1563/1563 [==============================] - 9s 5ms/step - loss: 1.7961 - accuracy: 0.3602\n",
      "Epoch 2/15\n",
      "1563/1563 [==============================] - 8s 5ms/step - loss: 1.5991 - accuracy: 0.4353\n",
      "Epoch 3/15\n",
      "1563/1563 [==============================] - 8s 5ms/step - loss: 1.5168 - accuracy: 0.4671\n",
      "Epoch 4/15\n",
      "1563/1563 [==============================] - 8s 5ms/step - loss: 1.4548 - accuracy: 0.4883\n",
      "Epoch 5/15\n",
      "1563/1563 [==============================] - 8s 5ms/step - loss: 1.4017 - accuracy: 0.5056\n",
      "Epoch 6/15\n",
      "1563/1563 [==============================] - 8s 5ms/step - loss: 1.3569 - accuracy: 0.5232\n",
      "Epoch 7/15\n",
      "1563/1563 [==============================] - 8s 5ms/step - loss: 1.3174 - accuracy: 0.5385\n",
      "Epoch 8/15\n",
      "1563/1563 [==============================] - 8s 5ms/step - loss: 1.2788 - accuracy: 0.5520\n",
      "Epoch 9/15\n",
      "1563/1563 [==============================] - 8s 5ms/step - loss: 1.2432 - accuracy: 0.5630: 2s - los - ETA: 1s - l - ETA: 0s - loss: 1.2\n",
      "Epoch 10/15\n",
      "1563/1563 [==============================] - 8s 5ms/step - loss: 1.2138 - accuracy: 0.5753\n",
      "Epoch 11/15\n",
      "1563/1563 [==============================] - 8s 5ms/step - loss: 1.1767 - accuracy: 0.5888\n",
      "Epoch 12/15\n",
      "1563/1563 [==============================] - 8s 5ms/step - loss: 1.1482 - accuracy: 0.5986\n",
      "Epoch 13/15\n",
      "1563/1563 [==============================] - 8s 5ms/step - loss: 1.1145 - accuracy: 0.6132\n",
      "Epoch 14/15\n",
      "1563/1563 [==============================] - 8s 5ms/step - loss: 1.0840 - accuracy: 0.6224\n",
      "Epoch 15/15\n",
      "1563/1563 [==============================] - 8s 5ms/step - loss: 1.0526 - accuracy: 0.6354: 0s - loss: 1.0527 - accuracy: 0.\n"
     ]
    },
    {
     "data": {
      "text/plain": [
       "<tensorflow.python.keras.callbacks.History at 0x1eb7f3a6970>"
      ]
     },
     "execution_count": 13,
     "metadata": {},
     "output_type": "execute_result"
    }
   ],
   "source": [
    "ann = keras.Sequential([\n",
    "    layers.Flatten(input_shape=(32,32,3)),\n",
    "    layers.Dense(3000,activation='relu',kernel_initializer='he_uniform'),\n",
    "    layers.Dense(1000,activation=\"relu\",kernel_initializer='he_uniform'),    \n",
    "    layers.Dense(10,kernel_initializer='glorot_uniform', activation='sigmoid')\n",
    "])\n",
    "\n",
    "ann.compile(optimizer='SGD', loss='sparse_categorical_crossentropy', metrics=['accuracy'])\n",
    "\n",
    "ann.fit(x_train,y_train,epochs=15)"
   ]
  },
  {
   "cell_type": "code",
   "execution_count": 15,
   "id": "36f8c81d",
   "metadata": {},
   "outputs": [
    {
     "name": "stdout",
     "output_type": "stream",
     "text": [
      "313/313 [==============================] - 1s 2ms/step - loss: 1.3197 - accuracy: 0.5382\n"
     ]
    },
    {
     "data": {
      "text/plain": [
       "[1.3196547031402588, 0.5382000207901001]"
      ]
     },
     "execution_count": 15,
     "metadata": {},
     "output_type": "execute_result"
    }
   ],
   "source": [
    "ann.evaluate(x_test,y_test)"
   ]
  },
  {
   "cell_type": "code",
   "execution_count": 24,
   "id": "84d67440",
   "metadata": {},
   "outputs": [
    {
     "data": {
      "text/plain": [
       "'frog'"
      ]
     },
     "execution_count": 24,
     "metadata": {},
     "output_type": "execute_result"
    }
   ],
   "source": [
    "classes[np.argmax(ann.predict(x_test)[5])]"
   ]
  },
  {
   "cell_type": "code",
   "execution_count": 25,
   "id": "1da77675",
   "metadata": {},
   "outputs": [
    {
     "data": {
      "text/plain": [
       "'frog'"
      ]
     },
     "execution_count": 25,
     "metadata": {},
     "output_type": "execute_result"
    }
   ],
   "source": [
    "classes[y_test[5]]"
   ]
  },
  {
   "cell_type": "code",
   "execution_count": 28,
   "id": "fabea8d0",
   "metadata": {},
   "outputs": [
    {
     "name": "stdout",
     "output_type": "stream",
     "text": [
      "Classification Report: \n",
      "               precision    recall  f1-score   support\n",
      "\n",
      "           0       0.52      0.68      0.59      1000\n",
      "           1       0.68      0.62      0.65      1000\n",
      "           2       0.43      0.43      0.43      1000\n",
      "           3       0.42      0.34      0.37      1000\n",
      "           4       0.43      0.55      0.48      1000\n",
      "           5       0.53      0.33      0.41      1000\n",
      "           6       0.61      0.56      0.58      1000\n",
      "           7       0.66      0.54      0.59      1000\n",
      "           8       0.57      0.75      0.65      1000\n",
      "           9       0.59      0.56      0.58      1000\n",
      "\n",
      "    accuracy                           0.54     10000\n",
      "   macro avg       0.54      0.54      0.53     10000\n",
      "weighted avg       0.54      0.54      0.53     10000\n",
      "\n"
     ]
    }
   ],
   "source": [
    "from sklearn.metrics import confusion_matrix, classification_report\n",
    "y_pred = ann.predict(x_test)\n",
    "y_pred_classes = [np.argmax(element) for element in y_pred]\n",
    "\n",
    "print(\"Classification Report: \\n\", classification_report(y_test,y_pred_classes))"
   ]
  },
  {
   "cell_type": "code",
   "execution_count": 32,
   "id": "7987d00a",
   "metadata": {},
   "outputs": [],
   "source": [
    "# Use CNN"
   ]
  },
  {
   "cell_type": "code",
   "execution_count": 35,
   "id": "71669cad",
   "metadata": {},
   "outputs": [
    {
     "name": "stdout",
     "output_type": "stream",
     "text": [
      "Epoch 1/15\n",
      "1563/1563 [==============================] - 10s 3ms/step - loss: 1.4368 - accuracy: 0.4827\n",
      "Epoch 2/15\n",
      "1563/1563 [==============================] - 5s 3ms/step - loss: 1.0733 - accuracy: 0.6205\n",
      "Epoch 3/15\n",
      "1563/1563 [==============================] - 5s 3ms/step - loss: 0.9068 - accuracy: 0.6803\n",
      "Epoch 4/15\n",
      "1563/1563 [==============================] - 5s 3ms/step - loss: 0.7836 - accuracy: 0.7245\n",
      "Epoch 5/15\n",
      "1563/1563 [==============================] - 5s 3ms/step - loss: 0.6666 - accuracy: 0.7674\n",
      "Epoch 6/15\n",
      "1563/1563 [==============================] - 5s 3ms/step - loss: 0.5659 - accuracy: 0.8005\n",
      "Epoch 7/15\n",
      "1563/1563 [==============================] - 5s 3ms/step - loss: 0.4677 - accuracy: 0.8381\n",
      "Epoch 8/15\n",
      "1563/1563 [==============================] - 5s 3ms/step - loss: 0.3865 - accuracy: 0.8641\n",
      "Epoch 9/15\n",
      "1563/1563 [==============================] - 5s 3ms/step - loss: 0.3053 - accuracy: 0.8924\n",
      "Epoch 10/15\n",
      "1563/1563 [==============================] - 5s 3ms/step - loss: 0.2493 - accuracy: 0.9130\n",
      "Epoch 11/15\n",
      "1563/1563 [==============================] - 5s 3ms/step - loss: 0.1990 - accuracy: 0.9311\n",
      "Epoch 12/15\n",
      "1563/1563 [==============================] - 5s 3ms/step - loss: 0.1577 - accuracy: 0.9451\n",
      "Epoch 13/15\n",
      "1563/1563 [==============================] - 5s 3ms/step - loss: 0.1389 - accuracy: 0.9521\n",
      "Epoch 14/15\n",
      "1563/1563 [==============================] - 5s 3ms/step - loss: 0.1160 - accuracy: 0.9599\n",
      "Epoch 15/15\n",
      "1563/1563 [==============================] - 5s 3ms/step - loss: 0.1144 - accuracy: 0.9600\n"
     ]
    },
    {
     "data": {
      "text/plain": [
       "<tensorflow.python.keras.callbacks.History at 0x1ec13964c40>"
      ]
     },
     "execution_count": 35,
     "metadata": {},
     "output_type": "execute_result"
    }
   ],
   "source": [
    "cnn = keras.Sequential([\n",
    "    #cnn\n",
    "    layers.Conv2D(filters=32, activation='relu', kernel_size=(3,3), input_shape=(32, 32, 3)),\n",
    "    layers.MaxPool2D((2,2)),\n",
    "    \n",
    "    layers.Conv2D(filters=64, activation='relu', kernel_size=(3,3)),\n",
    "    layers.MaxPool2D((2,2)),\n",
    "    \n",
    "    # dense\n",
    "    layers.Flatten(),\n",
    "    layers.Dense(256,activation='relu',kernel_initializer='he_uniform'),\n",
    "    layers.Dense(10,kernel_initializer='glorot_uniform', activation='softmax')\n",
    "])\n",
    "\n",
    "cnn.compile(optimizer='adam', loss='sparse_categorical_crossentropy', metrics=['accuracy'])\n",
    "\n",
    "cnn.fit(x_train,y_train,epochs=15)"
   ]
  },
  {
   "cell_type": "code",
   "execution_count": 36,
   "id": "a4bb35f1",
   "metadata": {},
   "outputs": [
    {
     "name": "stdout",
     "output_type": "stream",
     "text": [
      "313/313 [==============================] - 1s 2ms/step - loss: 1.8545 - accuracy: 0.6814\n"
     ]
    },
    {
     "data": {
      "text/plain": [
       "[1.8544833660125732, 0.6814000010490417]"
      ]
     },
     "execution_count": 36,
     "metadata": {},
     "output_type": "execute_result"
    }
   ],
   "source": [
    "cnn.evaluate(x_test,y_test)"
   ]
  },
  {
   "cell_type": "code",
   "execution_count": 40,
   "id": "3d658a5e",
   "metadata": {},
   "outputs": [
    {
     "data": {
      "text/plain": [
       "'truck'"
      ]
     },
     "execution_count": 40,
     "metadata": {},
     "output_type": "execute_result"
    }
   ],
   "source": [
    "classes[np.argmax(cnn.predict(x_test)[50])]"
   ]
  },
  {
   "cell_type": "code",
   "execution_count": 41,
   "id": "49324527",
   "metadata": {},
   "outputs": [
    {
     "data": {
      "text/plain": [
       "'truck'"
      ]
     },
     "execution_count": 41,
     "metadata": {},
     "output_type": "execute_result"
    }
   ],
   "source": [
    "classes[y_test[50]]"
   ]
  },
  {
   "cell_type": "code",
   "execution_count": 42,
   "id": "46d4d078",
   "metadata": {},
   "outputs": [
    {
     "data": {
      "image/png": "[encoded data removed]",
      "text/plain": [
       "<Figure size 1080x144 with 1 Axes>"
      ]
     },
     "metadata": {
      "needs_background": "light"
     },
     "output_type": "display_data"
    }
   ],
   "source": [
    "plot_sample(x_test,y_test,50)"
   ]
  },
  {
   "cell_type": "code",
   "execution_count": 43,
   "id": "326a5dac",
   "metadata": {},
   "outputs": [
    {
     "data": {
      "text/plain": [
       "array([[4.00965696e-08, 2.25505445e-07, 1.08691193e-05, 9.99282777e-01,\n",
       "        4.45747078e-10, 4.00841818e-04, 3.05333757e-04, 2.36412867e-09,\n",
       "        1.60217564e-08, 2.96006997e-10],\n",
       "       [5.32647704e-08, 9.90628421e-01, 6.14166702e-16, 4.14936284e-20,\n",
       "        1.21985398e-19, 2.54132599e-20, 2.55503199e-20, 1.37410403e-14,\n",
       "        9.37152654e-03, 2.30063169e-12],\n",
       "       [7.48729408e-01, 4.91605736e-02, 2.49996199e-04, 2.20124246e-04,\n",
       "        7.25081190e-05, 1.03059765e-05, 5.76340859e-08, 3.52624280e-04,\n",
       "        1.97399482e-01, 3.80492606e-03],\n",
       "       [9.95506525e-01, 1.12199096e-03, 4.10271059e-05, 8.63125627e-10,\n",
       "        2.81433193e-11, 4.98809652e-13, 1.96315268e-13, 4.85992757e-08,\n",
       "        3.32008954e-03, 1.03290513e-05],\n",
       "       [1.00572470e-19, 1.68647512e-14, 8.26367852e-07, 9.44223359e-07,\n",
       "        9.99492526e-01, 5.28648968e-07, 5.05207106e-04, 8.90170747e-18,\n",
       "        8.12192043e-14, 2.32644322e-16]], dtype=float32)"
      ]
     },
     "execution_count": 43,
     "metadata": {},
     "output_type": "execute_result"
    }
   ],
   "source": [
    "y_pred_cnn = cnn.predict(x_test)\n",
    "y_pred_cnn[:5]"
   ]
  },
  {
   "cell_type": "code",
   "execution_count": 44,
   "id": "351af110",
   "metadata": {},
   "outputs": [],
   "source": [
    "y_pred_classes_cnn = [np.argmax(element) for element in y_pred_cnn]"
   ]
  },
  {
   "cell_type": "code",
   "execution_count": 47,
   "id": "e41a3040",
   "metadata": {},
   "outputs": [
    {
     "data": {
      "text/plain": [
       "'truck'"
      ]
     },
     "execution_count": 47,
     "metadata": {},
     "output_type": "execute_result"
    }
   ],
   "source": [
    "classes[y_pred_classes_cnn[50]]"
   ]
  },
  {
   "cell_type": "code",
   "execution_count": 52,
   "id": "ab12890b",
   "metadata": {},
   "outputs": [
    {
     "data": {
      "text/plain": [
       "array([9, 3, 9, 7, 6], dtype=uint8)"
      ]
     },
     "execution_count": 52,
     "metadata": {},
     "output_type": "execute_result"
    }
   ],
   "source": [
    "y_test[45:50]"
   ]
  },
  {
   "cell_type": "code",
   "execution_count": 53,
   "id": "edb4b2e0",
   "metadata": {},
   "outputs": [
    {
     "data": {
      "text/plain": [
       "[9, 5, 7, 7, 4]"
      ]
     },
     "execution_count": 53,
     "metadata": {},
     "output_type": "execute_result"
    }
   ],
   "source": [
    "y_pred_classes_cnn[45:50]"
   ]
  },
  {
   "cell_type": "code",
   "execution_count": 54,
   "id": "3b030567",
   "metadata": {},
   "outputs": [
    {
     "data": {
      "text/plain": [
       "[9, 5, 8, 4, 4]"
      ]
     },
     "execution_count": 54,
     "metadata": {},
     "output_type": "execute_result"
    }
   ],
   "source": [
    "y_pred_classes[45:50]"
   ]
  },
  {
   "cell_type": "code",
   "execution_count": 55,
   "id": "11ad65c5",
   "metadata": {},
   "outputs": [
    {
     "name": "stdout",
     "output_type": "stream",
     "text": [
      "Classification Report: \n",
      "               precision    recall  f1-score   support\n",
      "\n",
      "           0       0.73      0.72      0.73      1000\n",
      "           1       0.83      0.76      0.79      1000\n",
      "           2       0.59      0.58      0.58      1000\n",
      "           3       0.46      0.53      0.49      1000\n",
      "           4       0.69      0.57      0.62      1000\n",
      "           5       0.54      0.63      0.58      1000\n",
      "           6       0.78      0.71      0.74      1000\n",
      "           7       0.71      0.77      0.74      1000\n",
      "           8       0.79      0.80      0.79      1000\n",
      "           9       0.78      0.74      0.76      1000\n",
      "\n",
      "    accuracy                           0.68     10000\n",
      "   macro avg       0.69      0.68      0.68     10000\n",
      "weighted avg       0.69      0.68      0.68     10000\n",
      "\n"
     ]
    }
   ],
   "source": [
    "print(\"Classification Report: \\n\", classification_report(y_test,y_pred_classes_cnn))"
   ]
  },
  {
   "cell_type": "code",
   "execution_count": null,
   "id": "126373a3",
   "metadata": {},
   "outputs": [],
   "source": []
  }
 ],
 "metadata": {
  "kernelspec": {
   "display_name": "Python 3",
   "language": "python",
   "name": "python3"
  },
  "language_info": {
   "codemirror_mode": {
    "name": "ipython",
    "version": 3
   },
   "file_extension": ".py",
   "mimetype": "text/x-python",
   "name": "python",
   "nbconvert_exporter": "python",
   "pygments_lexer": "ipython3",
   "version": "3.8.6"
  }
 },
 "nbformat": 4,
 "nbformat_minor": 5
}

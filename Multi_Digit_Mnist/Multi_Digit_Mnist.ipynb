{
 "cells": [
  {
   "cell_type": "code",
   "execution_count": 1,
   "id": "0b51ff45",
   "metadata": {},
   "outputs": [],
   "source": [
    "import tensorflow as tf\n",
    "from tensorflow import keras\n",
    "import numpy as np\n",
    "import pandas as pd\n",
    "from tensorflow.keras import layers\n",
    "import os"
   ]
  },
  {
   "cell_type": "code",
   "execution_count": 2,
   "id": "38d99666",
   "metadata": {},
   "outputs": [],
   "source": [
    "train_df = pd.read_csv('./archive/train.csv')\n",
    "test_df = pd.read_csv('./archive/test.csv')\n",
    "train_images = os.getcwd() + '\\\\archive\\\\train_images\\\\' + train_df.iloc[:, 0].values\n",
    "test_images = os.getcwd() + '\\\\archive\\\\test_images\\\\' + test_df.iloc[:, 0].values"
   ]
  },
  {
   "cell_type": "code",
   "execution_count": 3,
   "id": "4acac284",
   "metadata": {},
   "outputs": [
    {
     "data": {
      "text/plain": [
       "'E:\\\\DL\\\\CNN\\\\Multi_Digit_Mnist\\\\archive\\\\train_images\\\\999_98.png'"
      ]
     },
     "execution_count": 3,
     "metadata": {},
     "output_type": "execute_result"
    }
   ],
   "source": [
    "train_images[63997]"
   ]
  },
  {
   "cell_type": "code",
   "execution_count": 4,
   "id": "8b37471c",
   "metadata": {},
   "outputs": [
    {
     "data": {
      "text/html": [
       "<div>\n",
       "<style scoped>\n",
       "    .dataframe tbody tr th:only-of-type {\n",
       "        vertical-align: middle;\n",
       "    }\n",
       "\n",
       "    .dataframe tbody tr th {\n",
       "        vertical-align: top;\n",
       "    }\n",
       "\n",
       "    .dataframe thead th {\n",
       "        text-align: right;\n",
       "    }\n",
       "</style>\n",
       "<table border=\"1\" class=\"dataframe\">\n",
       "  <thead>\n",
       "    <tr style=\"text-align: right;\">\n",
       "      <th></th>\n",
       "      <th>Image</th>\n",
       "      <th>first_num</th>\n",
       "      <th>second_num</th>\n",
       "    </tr>\n",
       "  </thead>\n",
       "  <tbody>\n",
       "    <tr>\n",
       "      <th>0</th>\n",
       "      <td>0_00.png</td>\n",
       "      <td>0</td>\n",
       "      <td>0</td>\n",
       "    </tr>\n",
       "    <tr>\n",
       "      <th>1</th>\n",
       "      <td>100_00.png</td>\n",
       "      <td>0</td>\n",
       "      <td>0</td>\n",
       "    </tr>\n",
       "    <tr>\n",
       "      <th>2</th>\n",
       "      <td>101_00.png</td>\n",
       "      <td>0</td>\n",
       "      <td>0</td>\n",
       "    </tr>\n",
       "    <tr>\n",
       "      <th>3</th>\n",
       "      <td>102_00.png</td>\n",
       "      <td>0</td>\n",
       "      <td>0</td>\n",
       "    </tr>\n",
       "    <tr>\n",
       "      <th>4</th>\n",
       "      <td>103_00.png</td>\n",
       "      <td>0</td>\n",
       "      <td>0</td>\n",
       "    </tr>\n",
       "    <tr>\n",
       "      <th>...</th>\n",
       "      <td>...</td>\n",
       "      <td>...</td>\n",
       "      <td>...</td>\n",
       "    </tr>\n",
       "    <tr>\n",
       "      <th>63995</th>\n",
       "      <td>997_98.png</td>\n",
       "      <td>9</td>\n",
       "      <td>8</td>\n",
       "    </tr>\n",
       "    <tr>\n",
       "      <th>63996</th>\n",
       "      <td>998_98.png</td>\n",
       "      <td>9</td>\n",
       "      <td>8</td>\n",
       "    </tr>\n",
       "    <tr>\n",
       "      <th>63997</th>\n",
       "      <td>999_98.png</td>\n",
       "      <td>9</td>\n",
       "      <td>8</td>\n",
       "    </tr>\n",
       "    <tr>\n",
       "      <th>63998</th>\n",
       "      <td>99_98.png</td>\n",
       "      <td>9</td>\n",
       "      <td>8</td>\n",
       "    </tr>\n",
       "    <tr>\n",
       "      <th>63999</th>\n",
       "      <td>9_98.png</td>\n",
       "      <td>9</td>\n",
       "      <td>8</td>\n",
       "    </tr>\n",
       "  </tbody>\n",
       "</table>\n",
       "<p>64000 rows × 3 columns</p>\n",
       "</div>"
      ],
      "text/plain": [
       "            Image  first_num  second_num\n",
       "0        0_00.png          0           0\n",
       "1      100_00.png          0           0\n",
       "2      101_00.png          0           0\n",
       "3      102_00.png          0           0\n",
       "4      103_00.png          0           0\n",
       "...           ...        ...         ...\n",
       "63995  997_98.png          9           8\n",
       "63996  998_98.png          9           8\n",
       "63997  999_98.png          9           8\n",
       "63998   99_98.png          9           8\n",
       "63999    9_98.png          9           8\n",
       "\n",
       "[64000 rows x 3 columns]"
      ]
     },
     "execution_count": 4,
     "metadata": {},
     "output_type": "execute_result"
    }
   ],
   "source": [
    "train_df"
   ]
  },
  {
   "cell_type": "code",
   "execution_count": 5,
   "id": "487c8f6c",
   "metadata": {},
   "outputs": [],
   "source": [
    "train_lables = train_df.iloc[:,1:].values\n",
    "test_lables = test_df.iloc[:,1:].values"
   ]
  },
  {
   "cell_type": "code",
   "execution_count": 6,
   "id": "35d796bc",
   "metadata": {},
   "outputs": [
    {
     "data": {
      "text/plain": [
       "array([9, 8], dtype=int64)"
      ]
     },
     "execution_count": 6,
     "metadata": {},
     "output_type": "execute_result"
    }
   ],
   "source": [
    "train_lables[63997]"
   ]
  },
  {
   "cell_type": "code",
   "execution_count": 7,
   "id": "9250d3c8",
   "metadata": {},
   "outputs": [],
   "source": [
    "def read_image(image_path, label):\n",
    "    image = tf.io.read_file(image_path)\n",
    "    image = tf.image.decode_image(image, channels=1, dtype=tf.float32)\n",
    "    \n",
    "    # this 3 lines can be removed in tf version >=2.3.0\n",
    "    image.set_shape((64,64,1))\n",
    "    label[0].set_shape([])\n",
    "    label[1].set_shape([])\n",
    "    \n",
    "    labels = {'first_num': label[0], 'second_num': label[1]}\n",
    "    return image, labels"
   ]
  },
  {
   "cell_type": "code",
   "execution_count": 8,
   "id": "9bd37965",
   "metadata": {},
   "outputs": [],
   "source": [
    "batch_size = 64\n",
    "weight_decay = 0.001\n",
    "learning_rate = 0.001"
   ]
  },
  {
   "cell_type": "code",
   "execution_count": 9,
   "id": "07abfb8b",
   "metadata": {},
   "outputs": [],
   "source": [
    "AUTOTUNE = tf.data.experimental.AUTOTUNE"
   ]
  },
  {
   "cell_type": "code",
   "execution_count": 10,
   "id": "3b85002e",
   "metadata": {},
   "outputs": [],
   "source": [
    "train_dataset = tf.data.Dataset.from_tensor_slices((train_images,train_lables))"
   ]
  },
  {
   "cell_type": "code",
   "execution_count": 11,
   "id": "2584f4f2",
   "metadata": {},
   "outputs": [],
   "source": [
    "train_dataset = (train_dataset.shuffle(buffer_size=len(train_lables)).map(read_image)\n",
    "                 .batch(batch_size=batch_size).prefetch(buffer_size=AUTOTUNE))"
   ]
  },
  {
   "cell_type": "code",
   "execution_count": 12,
   "id": "fcdc199f",
   "metadata": {},
   "outputs": [],
   "source": [
    "test_dataset = tf.data.Dataset.from_tensor_slices((test_images, test_lables))"
   ]
  },
  {
   "cell_type": "code",
   "execution_count": 13,
   "id": "1a782396",
   "metadata": {},
   "outputs": [],
   "source": [
    "test_dataset = (test_dataset.map(read_image)\n",
    "                 .batch(batch_size=batch_size).prefetch(buffer_size=AUTOTUNE))"
   ]
  },
  {
   "cell_type": "code",
   "execution_count": 14,
   "id": "7090f357",
   "metadata": {},
   "outputs": [],
   "source": [
    "inputs = keras.Input(shape=(64,64,1))\n",
    "x = layers.Conv2D(32, 3, padding='same', kernel_regularizer = keras.regularizers.l2(weight_decay))(inputs)\n",
    "x = layers.BatchNormalization()(x)\n",
    "x = keras.activations.relu(x)\n",
    "x = layers.Conv2D(64, 3, kernel_regularizer = keras.regularizers.l2(weight_decay))(x)\n",
    "x = layers.BatchNormalization()(x)\n",
    "x = keras.activations.relu(x)\n",
    "x = layers.MaxPool2D()(x)\n",
    "x = layers.Conv2D(64, 3, activation='relu', kernel_regularizer = keras.regularizers.l2(weight_decay))(x)\n",
    "x = layers.Conv2D(128, 3, activation='relu')(x)\n",
    "x = layers.MaxPool2D()(x)\n",
    "x = layers.Flatten()(x)\n",
    "x = layers.Dense(128, activation='relu')(x)\n",
    "x = layers.Dropout(0.2)(x)\n",
    "x = layers.Dense(64, activation='relu')(x)\n",
    "output1 = layers.Dense(10, name='first_num', activation='softmax')(x)\n",
    "output2 = layers.Dense(10, name='second_num', activation='softmax')(x)\n",
    "\n",
    "model = keras.Model(inputs = inputs, outputs = [output1, output2])\n",
    "\n",
    "model.compile(optimizer=keras.optimizers.Adam(learning_rate=learning_rate), \n",
    "              loss=[keras.losses.SparseCategoricalCrossentropy(),\n",
    "                    keras.losses.SparseCategoricalCrossentropy()],\n",
    "              metrics=['accuracy']\n",
    "             )"
   ]
  },
  {
   "cell_type": "code",
   "execution_count": 15,
   "id": "ee6a2a63",
   "metadata": {},
   "outputs": [
    {
     "name": "stdout",
     "output_type": "stream",
     "text": [
      "Model: \"model\"\n",
      "__________________________________________________________________________________________________\n",
      "Layer (type)                    Output Shape         Param #     Connected to                     \n",
      "==================================================================================================\n",
      "input_1 (InputLayer)            [(None, 64, 64, 1)]  0                                            \n",
      "__________________________________________________________________________________________________\n",
      "conv2d (Conv2D)                 (None, 64, 64, 32)   320         input_1[0][0]                    \n",
      "__________________________________________________________________________________________________\n",
      "batch_normalization (BatchNorma (None, 64, 64, 32)   128         conv2d[0][0]                     \n",
      "__________________________________________________________________________________________________\n",
      "tf.nn.relu (TFOpLambda)         (None, 64, 64, 32)   0           batch_normalization[0][0]        \n",
      "__________________________________________________________________________________________________\n",
      "conv2d_1 (Conv2D)               (None, 62, 62, 64)   18496       tf.nn.relu[0][0]                 \n",
      "__________________________________________________________________________________________________\n",
      "batch_normalization_1 (BatchNor (None, 62, 62, 64)   256         conv2d_1[0][0]                   \n",
      "__________________________________________________________________________________________________\n",
      "tf.nn.relu_1 (TFOpLambda)       (None, 62, 62, 64)   0           batch_normalization_1[0][0]      \n",
      "__________________________________________________________________________________________________\n",
      "max_pooling2d (MaxPooling2D)    (None, 31, 31, 64)   0           tf.nn.relu_1[0][0]               \n",
      "__________________________________________________________________________________________________\n",
      "conv2d_2 (Conv2D)               (None, 29, 29, 64)   36928       max_pooling2d[0][0]              \n",
      "__________________________________________________________________________________________________\n",
      "conv2d_3 (Conv2D)               (None, 27, 27, 128)  73856       conv2d_2[0][0]                   \n",
      "__________________________________________________________________________________________________\n",
      "max_pooling2d_1 (MaxPooling2D)  (None, 13, 13, 128)  0           conv2d_3[0][0]                   \n",
      "__________________________________________________________________________________________________\n",
      "flatten (Flatten)               (None, 21632)        0           max_pooling2d_1[0][0]            \n",
      "__________________________________________________________________________________________________\n",
      "dense (Dense)                   (None, 128)          2769024     flatten[0][0]                    \n",
      "__________________________________________________________________________________________________\n",
      "dropout (Dropout)               (None, 128)          0           dense[0][0]                      \n",
      "__________________________________________________________________________________________________\n",
      "dense_1 (Dense)                 (None, 64)           8256        dropout[0][0]                    \n",
      "__________________________________________________________________________________________________\n",
      "first_num (Dense)               (None, 10)           650         dense_1[0][0]                    \n",
      "__________________________________________________________________________________________________\n",
      "second_num (Dense)              (None, 10)           650         dense_1[0][0]                    \n",
      "==================================================================================================\n",
      "Total params: 2,908,564\n",
      "Trainable params: 2,908,372\n",
      "Non-trainable params: 192\n",
      "__________________________________________________________________________________________________\n"
     ]
    }
   ],
   "source": [
    "model.summary()"
   ]
  },
  {
   "cell_type": "code",
   "execution_count": 17,
   "id": "9087fb20",
   "metadata": {},
   "outputs": [
    {
     "name": "stdout",
     "output_type": "stream",
     "text": [
      "Epoch 1/10\n",
      "1000/1000 [==============================] - 47s 47ms/step - loss: 0.5263 - first_num_loss: 0.2293 - second_num_loss: 0.2256 - first_num_accuracy: 0.9256 - second_num_accuracy: 0.9273\n",
      "Epoch 2/10\n",
      "1000/1000 [==============================] - 44s 44ms/step - loss: 0.2556 - first_num_loss: 0.1027 - second_num_loss: 0.0996 - first_num_accuracy: 0.9678 - second_num_accuracy: 0.9680\n",
      "Epoch 3/10\n",
      "1000/1000 [==============================] - 46s 46ms/step - loss: 0.1863 - first_num_loss: 0.0709 - second_num_loss: 0.0706 - first_num_accuracy: 0.9775 - second_num_accuracy: 0.9776\n",
      "Epoch 4/10\n",
      "1000/1000 [==============================] - 47s 46ms/step - loss: 0.1603 - first_num_loss: 0.0592 - second_num_loss: 0.0599 - first_num_accuracy: 0.9808 - second_num_accuracy: 0.9802\n",
      "Epoch 5/10\n",
      "1000/1000 [==============================] - 47s 47ms/step - loss: 0.1334 - first_num_loss: 0.0494 - second_num_loss: 0.0452 - first_num_accuracy: 0.9846 - second_num_accuracy: 0.9848\n",
      "Epoch 6/10\n",
      "1000/1000 [==============================] - 47s 47ms/step - loss: 0.1107 - first_num_loss: 0.0379 - second_num_loss: 0.0376 - first_num_accuracy: 0.9874 - second_num_accuracy: 0.9880\n",
      "Epoch 7/10\n",
      "1000/1000 [==============================] - 47s 47ms/step - loss: 0.1045 - first_num_loss: 0.0336 - second_num_loss: 0.0377 - first_num_accuracy: 0.9888 - second_num_accuracy: 0.9875\n",
      "Epoch 8/10\n",
      "1000/1000 [==============================] - 47s 47ms/step - loss: 0.0941 - first_num_loss: 0.0332 - second_num_loss: 0.0296 - first_num_accuracy: 0.9893 - second_num_accuracy: 0.9900\n",
      "Epoch 9/10\n",
      "1000/1000 [==============================] - 47s 47ms/step - loss: 0.0862 - first_num_loss: 0.0278 - second_num_loss: 0.0285 - first_num_accuracy: 0.9909 - second_num_accuracy: 0.9907\n",
      "Epoch 10/10\n",
      "1000/1000 [==============================] - 47s 47ms/step - loss: 0.0808 - first_num_loss: 0.0262 - second_num_loss: 0.0262 - first_num_accuracy: 0.9916 - second_num_accuracy: 0.9914 12s - loss: 0.0817 - first_num_loss: 0.0277 - seco - ETA: 7s - loss: 0.0813 - first_num_loss: 0.0268 - secon\n"
     ]
    },
    {
     "data": {
      "text/plain": [
       "<tensorflow.python.keras.callbacks.History at 0x1af2e8e8e20>"
      ]
     },
     "execution_count": 17,
     "metadata": {},
     "output_type": "execute_result"
    }
   ],
   "source": [
    "model.fit(train_dataset, epochs=10)"
   ]
  },
  {
   "cell_type": "code",
   "execution_count": 18,
   "id": "61202c54",
   "metadata": {},
   "outputs": [
    {
     "name": "stdout",
     "output_type": "stream",
     "text": [
      "313/313 [==============================] - 65s 206ms/step - loss: 1.0636 - first_num_loss: 0.4638 - second_num_loss: 0.5727 - first_num_accuracy: 0.8785 - second_num_accuracy: 0.8561\n"
     ]
    },
    {
     "data": {
      "text/plain": [
       "[1.0635658502578735,\n",
       " 0.4638114869594574,\n",
       " 0.5727300047874451,\n",
       " 0.8784999847412109,\n",
       " 0.8561499714851379]"
      ]
     },
     "execution_count": 18,
     "metadata": {},
     "output_type": "execute_result"
    }
   ],
   "source": [
    "model.evaluate(test_dataset)"
   ]
  },
  {
   "cell_type": "code",
   "execution_count": 19,
   "id": "796e503a",
   "metadata": {},
   "outputs": [],
   "source": [
    "# model.save('Multi_Digit_Mnist.h5')"
   ]
  },
  {
   "cell_type": "code",
   "execution_count": null,
   "id": "7607055b",
   "metadata": {},
   "outputs": [],
   "source": []
  }
 ],
 "metadata": {
  "kernelspec": {
   "display_name": "Python 3",
   "language": "python",
   "name": "python3"
  },
  "language_info": {
   "codemirror_mode": {
    "name": "ipython",
    "version": 3
   },
   "file_extension": ".py",
   "mimetype": "text/x-python",
   "name": "python",
   "nbconvert_exporter": "python",
   "pygments_lexer": "ipython3",
   "version": "3.8.6"
  }
 },
 "nbformat": 4,
 "nbformat_minor": 5
}
